{
 "cells": [
  {
   "cell_type": "markdown",
   "metadata": {},
   "source": [
    "## Market Intellegience Project 1: Product Design"
   ]
  },
  {
   "cell_type": "markdown",
   "metadata": {},
   "source": [
    "### I. Project Introduction"
   ]
  },
  {
   "cell_type": "markdown",
   "metadata": {},
   "source": [
    "In this project, we are the consumer insights team for an established, small to medium-sized beverage company. Te company is interested in capitalizing on recent market growth in botled, health-oriented beverages (e.g., flavored/enhanced water, cold teas, freshly pressed juice) and is considering launching a new product in this category. \n",
    "\n",
    "Our task is to identify a concept for a new product in the botled, health-oriented beverage category, design a consumer survey that will generate quantitative data, and analyze these data to inform whether the firm should launch this product or not. \n",
    "\n",
    "**To finish this market research, we will firstly design a survey on Qualtric, visualize and explore the survey results, conduct conjoint analysis and give the company a final proposal.** "
   ]
  },
  {
   "cell_type": "markdown",
   "metadata": {},
   "source": [
    "### II. Survey Design and Data Visualization"
   ]
  },
  {
   "cell_type": "markdown",
   "metadata": {},
   "source": [
    "To generate quantitative data, we designed a survey containing 12 questions on Qualtric as is shown in Qualtric **Survey.pdf** in this repository.\n",
    "\n",
    "After getting data, we used R to explore and visualize the survey results. The codes are given in the **Data Visualization.R** file in this repository.\n",
    "\n",
    "To understand the **target segments** for the new product concept, we firstly did a boxplot to discover the relationship between customer age and their likeliness to buy the AIR Water. As the box plot indicates, the customers under 44 years old have an increased likeliness to buy the infused water as their age increases. However, for customers older than 44 years old, the likeliness to buy the product is decreasing and is lower than any of the younger groups. Thus, the new product should target customers who are **younger than 44**.\n",
    "\n",
    "To explore the relationship between customers’ willingness to pay for the product and their **education level**, we generated a line plot on Qualtrics. As the plot indicates, people with higher education levels are more likely to offer a higher desired price for purchasing the product. We can also tell from the graph that potential customers who have professional degrees are giving a higher expected price for the product compared with other education level groups. Thus, we came to the conclusion that we should target customers who are **college students or are having a higher education**.\n",
    "\n",
    "We can conclude from the results we obtained that our target audiences consume high carbonated/caffeinated products, care most about sugar content followed by flavor, price and nutritional value and prefer non-fizzy herbs infused product. The main motivation of respondents is to detoxify their bodies and improve health so we can use these keywords in our product descriptions. Also, on average they are willing to pay $2.4 for a bottle and we can consider it after doing our break-even analysis.\n",
    "\n",
    "Having said that, around 60% of respondents do not consume this type of product and on average there is a 50% chance that they will buy this product in the future.\n",
    "\n",
    "To conduct further research on costumers' preference, we build on the survey. We came up with a couple of potential product concepts to test. We will use ratings-based conjoint analysis to determine the beverage atributes that will appeal to the greatest number of people. The survey is given in **Conjoint–Survey.pdf**.\n"
   ]
  },
  {
   "cell_type": "markdown",
   "metadata": {},
   "source": [
    "### III.  Conjoint Analysis"
   ]
  },
  {
   "cell_type": "markdown",
   "metadata": {},
   "source": [
    "#### 1. Study Design"
   ]
  },
  {
   "cell_type": "markdown",
   "metadata": {},
   "source": [
    "Import the experimental design builder script."
   ]
  },
  {
   "cell_type": "code",
   "execution_count": null,
   "metadata": {},
   "outputs": [],
   "source": [
    "import sys\n",
    "sys.path.insert(1, '/data/ProductDesign')\n",
    "import designer"
   ]
  },
  {
   "cell_type": "markdown",
   "metadata": {},
   "source": [
    "Define a variable called `attributes` that contains the attributes and levels within each attribute."
   ]
  },
  {
   "cell_type": "code",
   "execution_count": null,
   "metadata": {},
   "outputs": [],
   "source": [
    "attributes = {\"Sugar content\": [\"With Added Sugar\", \"No Added Sugar\"],\n",
    "             \"Carbonation\": [\"Carbonated\", \"Not Carbonated\"],\n",
    "             \"Packaging\":[\"Plastic Bottle\",\"Glass Bottle\"],\n",
    "             \"Bottle Cap\":[\"Flip Cap\",\"Twist Cap\"]}"
   ]
  },
  {
   "cell_type": "markdown",
   "metadata": {},
   "source": [
    "Use the designer script to find a matching design."
   ]
  },
  {
   "cell_type": "code",
   "execution_count": null,
   "metadata": {},
   "outputs": [],
   "source": [
    "import pandas as pd\n",
    "design = pd.DataFrame({\"Product\":[str(i) for i in range(1,17)],\n",
    "\"Sugar content\": [\"With Added Sugar\", \"No Added Sugar\"]*8,\n",
    "\"Carbonation\": ([\"Carbonated\"]*2 + [\"Not Carbonated\"]*2)*4,\n",
    "\"Packaging\": ([\"Plastic Bottle\"]*4 + [\"Glass Bottle\"]*4)*2,\n",
    "\"Bottle Cap\": ([\"Flip Cap\"]*8+[\"Twist Cap\"]*8)})"
   ]
  },
  {
   "cell_type": "markdown",
   "metadata": {},
   "source": [
    "#### 2. Write and administer the survey"
   ]
  },
  {
   "cell_type": "code",
   "execution_count": null,
   "metadata": {},
   "outputs": [],
   "source": [
    "#Read the data\n",
    "import pandas as pd\n",
    "raw_survey_results =  pd.read_csv('Conjoint.csv')"
   ]
  },
  {
   "cell_type": "markdown",
   "metadata": {},
   "source": [
    "Clean the data."
   ]
  },
  {
   "cell_type": "code",
   "execution_count": null,
   "metadata": {},
   "outputs": [],
   "source": [
    "#Drop Unnecesary Columns\n",
    "remove_columns = raw_survey_results.drop(['StartDate','EndDate','Status','IPAddress','Progress','Duration (in seconds)','Finished','RecordedDate',\n",
    "                        'RecipientLastName','RecipientFirstName','RecipientEmail','ExternalReference','LocationLatitude','LocationLongitude',\n",
    "                        'DistributionChannel','UserLanguage'],axis=1)\n",
    "#Remove Unnecessary rows\n",
    "remove_rows = remove_columns.drop(remove_columns.index[[0,1,2,3,4,5]])\n",
    "# Rename Columns\n",
    "clean = remove_rows.rename(columns={\"Q1_1\": \"9\",\n",
    "                                    \"Q1_2\": \"1\",\n",
    "                                    \"Q1_3\": \"13\",\n",
    "                                    \"Q1_4\" : \"5\",\n",
    "                                    \"Q1_5\":\"11\",\n",
    "                                    \"Q1_6\": \"3\",\n",
    "                                    \"Q1_7\" : \"15\",\n",
    "                                    \"Q1_8\":\"7\",\n",
    "                                    \"Q1_9\":\"10\",\n",
    "                                    \"Q1_10\":\"2\",\n",
    "                                    \"Q1_11\":\"14\",\n",
    "                                    \"Q1_12\":\"6\",\n",
    "                                    \"Q1_13\":\"12\",        \n",
    "                                    \"Q1_14\":\"4\",\n",
    "                                    \"Q1_15\":\"16\",\n",
    "                                    \"Q1_16\":\"8\"})\n",
    "#Melting or Unpivot\n",
    "almost_there = pd.melt(clean, id_vars=['ResponseId'], value_vars=[str(i) for i in range(1,17)])\n",
    "melt = almost_there.rename(columns={\"variable\": \"Product\"})\n",
    "\n",
    "import numpy as np\n",
    "\n",
    "#melt.merge()\n",
    "melt_new = melt.replace(np.nan, '1', regex=True)\n",
    "clean_survey_results_at = melt_new.merge(design, on='Product')\n",
    "clean_survey_results = clean_survey_results_at.drop('Product', axis=1)"
   ]
  },
  {
   "cell_type": "markdown",
   "metadata": {},
   "source": [
    "Introduce dummy variables in preparation for anlaysis. Now, for each attribute, there should be the number of levels minus one. (The intercept captures the \"default\" level, and the part-worths for all other levels will be measured relative to the default utility.)"
   ]
  },
  {
   "cell_type": "code",
   "execution_count": null,
   "metadata": {},
   "outputs": [],
   "source": [
    "clean_survey_results['Sugar content_alt'] = clean_survey_results['Sugar content'] == \"With Added Sugar\"\n",
    "clean_survey_results['Carbonation_alt'] = clean_survey_results['Carbonation'] == \"Carbonated\"\n",
    "clean_survey_results['Packaging_alt'] = clean_survey_results['Packaging'] == \"Plastic Bottle\"\n",
    "clean_survey_results['Bottle Cap_alt'] = clean_survey_results['Bottle Cap'] == \"Twist Cap\"\n",
    "data = clean_survey_results.drop(['Sugar content','Carbonation','Packaging','Bottle Cap'],axis=1)"
   ]
  },
  {
   "cell_type": "markdown",
   "metadata": {},
   "source": [
    "#### 4. Estimate the average and individual part-worths\n",
    "We will use sklearn's implementation of linear regression to estimate part-worths."
   ]
  },
  {
   "cell_type": "code",
   "execution_count": null,
   "metadata": {},
   "outputs": [],
   "source": [
    "from sklearn.linear_model import LinearRegression"
   ]
  },
  {
   "cell_type": "markdown",
   "metadata": {},
   "source": [
    "Compute the average part-worths by:\n",
    "\n",
    "* splitting the data into y (the response/rating) and X (the explanatory variables/attribute levels), and\n",
    "* Run a linear regression to estimate intercept and coefficients."
   ]
  },
  {
   "cell_type": "code",
   "execution_count": null,
   "metadata": {},
   "outputs": [],
   "source": [
    "x = data[['Sugar content_alt','Carbonation_alt','Packaging_alt','Bottle Cap_alt']] \n",
    "y = data[['value']]\n",
    "regressor = LinearRegression()\n",
    "regressor.fit(x, y)\n",
    "print('Coefficients: \\n', regressor.coef_)"
   ]
  },
  {
   "cell_type": "markdown",
   "metadata": {},
   "source": [
    "Calculate the importance of each attribute by doing the following steps.\n",
    "\n",
    "* Compute the part-worth range for each attribute.\n",
    "* Calculate the total range, summing the ranges over each attribute.\n",
    "* Calculate the importance for a single attribute as the range for that attribute over the total range."
   ]
  },
  {
   "cell_type": "code",
   "execution_count": null,
   "metadata": {},
   "outputs": [],
   "source": [
    "intercept = float(regressor.intercept_)\n",
    "coe = regressor.coef_\n",
    "range= abs(coe - intercept)\n",
    "total_range = range.sum()\n",
    "importance = range / total_range \n",
    "print('part-worth range:', range) \n",
    "print('total range:', total_range)\n",
    "print('importance:', importance)"
   ]
  },
  {
   "cell_type": "markdown",
   "metadata": {},
   "source": [
    "According to the part-worths, ranges and importance of each attribute, the ideal product will have **no added sugar, will be carbonated and packaged in a glass bottle which has a twist cap**."
   ]
  },
  {
   "cell_type": "markdown",
   "metadata": {},
   "source": [
    "Now calculate **individual part-worths**. We will do this by dividing up the data by individual respondent and running one regression for each respondent."
   ]
  },
  {
   "cell_type": "code",
   "execution_count": null,
   "metadata": {},
   "outputs": [],
   "source": [
    "Id_list=data['ResponseId'].unique().tolist()\n",
    "individual = []\n",
    "for i in Id_list:\n",
    "    sub = data[data['ResponseId'] == i]\n",
    "    x = sub[['Sugar content_alt','Carbonation_alt','Packaging_alt','Bottle Cap_alt']] \n",
    "    y = sub[['value']]\n",
    "    regressor = LinearRegression()\n",
    "    regressor.fit(x, y)\n",
    "    individual_coe = regressor.coef_\n",
    "    intercept = float(regressor.intercept_)\n",
    "    keys = ['ID','Intercept','sugar_coe','carbonation_coe','packaging_coe','cap_coe']\n",
    "    values = [i,intercept,individual_coe[0][0],individual_coe[0][1],individual_coe[0][2],individual_coe[0][3]]\n",
    "    individual.append(dict(zip(keys, values)))\n",
    "individual_part_worths = pd.DataFrame(individual)\n",
    "individual_part_worths"
   ]
  },
  {
   "cell_type": "markdown",
   "metadata": {},
   "source": [
    "#### 5. Simulate the market"
   ]
  },
  {
   "cell_type": "markdown",
   "metadata": {},
   "source": [
    "Write a function utility that takes two arguments:\n",
    "\n",
    "* product: a list of which level has been selected for each attribute. \n",
    "* part_worths: a row from the individual_part_worths data frame created.\n",
    "\n",
    "The utility function will compute and return the utility of the specified individual for the specified product; this is the intercept plus any relevant part-worths that correspond to the product's attribute levels."
   ]
  },
  {
   "cell_type": "code",
   "execution_count": null,
   "metadata": {},
   "outputs": [],
   "source": [
    "def utility(product,part_worths):\n",
    "    u = part_worths.iloc[0][\"Intercept\"]\n",
    "    if product[0] == \"With Added Sugar\":\n",
    "        u = u + part_worths.iloc[0][\"sugar_coe\"]\n",
    "    if product[1] == \"Carbonated\":\n",
    "        u = u + part_worths.iloc[0][\"carbonation_coe\"]\n",
    "    if product[2] == \"Plastic Bottle\":\n",
    "        u = u + part_worths.iloc[0][\"packaging_coe\"]\n",
    "    if product[3] == \"Twist Cap\":\n",
    "        u = u + part_worths.iloc[0][\"cap_coe\"]\n",
    "    return u\n",
    "\n",
    "#test the function\n",
    "product = [\"With Added Sugar\",\"Carbonated\",\"PLastic Bottle\",\"Twist Cap\"]\n",
    "part_worths = individual_part_worths.loc[individual_part_worths.ID==\"R_3HqaVcuLFhFcFE6\"]\n",
    "utility(product,part_worths)"
   ]
  },
  {
   "cell_type": "markdown",
   "metadata": {},
   "source": [
    "Write a function choose_product that takes two arguments:\n",
    "\n",
    "* products: a list of products, where each product is its own list as specified before\n",
    "* part_worths: a row of inidivudual part worths, just as used in Task 8.\n",
    "\n",
    "This fuction will return a numpy array with the same length as the number of products; this array will contain a boolean value (true or false) for each product. The value for a product should be true if it maximizes the utility for the individual; as multiple products can have equivalent utilities, more than one product might maximize utility."
   ]
  },
  {
   "cell_type": "code",
   "execution_count": null,
   "metadata": {},
   "outputs": [],
   "source": [
    "def choose_product(products,part_worths):\n",
    "    us = []\n",
    "    ulist = []\n",
    "    for product in products:  \n",
    "        u = utility(product,part_worths)\n",
    "        us.append(u)\n",
    "    umax = max(us)\n",
    "    for each in us:\n",
    "        if each == umax:\n",
    "            ulist.append(True)\n",
    "        else:\n",
    "            ulist.append(False)\n",
    "    ulist=np.array(ulist)\n",
    "    return ulist\n",
    "\n",
    "#test the function\n",
    "products = [[\"With Added Sugar\",\"Carbonated\",\"PLastic Bottle\",\"Twist Cap\"],[\"No Added Sugar\",\"Carbonated\",\"PLastic Bottle\",\"Twist Cap\"]]\n",
    "part_worths = individual_part_worths.loc[individual_part_worths.ID==\"R_3HqaVcuLFhFcFE6\"]\n",
    "choose_product(products,part_worths)"
   ]
  },
  {
   "cell_type": "markdown",
   "metadata": {},
   "source": [
    "Write a function simulate that takes two arguments:\n",
    "\n",
    "* products: a list of products, identitcal to the argument for Task 9.\n",
    "* The individual_part_worths data frame created for Task 7.\n",
    "\n",
    "This function will simulate the market share of the products by having each individual choose a product from the list. For an individual who chooses more than one item (multiple items are tied for the top utility value), their \"vote\" is split between the tied items. The function will return an array of proportions of market share."
   ]
  },
  {
   "cell_type": "code",
   "execution_count": null,
   "metadata": {},
   "outputs": [],
   "source": [
    "Id_list=data['ResponseId'].unique().tolist()\n",
    "def simulate(products, individual_part_worths):\n",
    "    votes=[]\n",
    "    for i in Id_list:\n",
    "        part_worths = individual_part_worths.loc[individual_part_worths.ID==i]\n",
    "        vote = choose_product(products,part_worths)\n",
    "        votes.append(vote)\n",
    "    table = pd.DataFrame(list(map(np.ravel, votes)))\n",
    "    table.replace(False, 0, inplace=True)\n",
    "    table.replace(True, 1, inplace=True)\n",
    "    sum = table.sum(axis=0)\n",
    "    total = sum[0]+sum[1]+sum[2]+sum[3]\n",
    "    share = [sum[0]/total,sum[1]/total,sum[2]/total,sum[3]/total]\n",
    "    share = np.array(share)\n",
    "    return share"
   ]
  },
  {
   "cell_type": "markdown",
   "metadata": {},
   "source": [
    "Create a variable called my_product that has the ideal value (maximum average utility) based on what we discovered; Also create three competitiors using this same format. Create a list called all_products that contains all four products and simulate the market with the products."
   ]
  },
  {
   "cell_type": "markdown",
   "metadata": {},
   "source": [
    "For competitor products, we have identified the following products as competitors:\n",
    "- A bottle of water with no sugar, no carbonation in a plastic bottle with a twist cap\n",
    "- A bottle of water with no sugar, no carbonation in a glass bottle with a twist cap\n",
    "- A bottle of water with no sugar, carbonation in a plastic bottle with a flip cap\n",
    "\n",
    "We picked these products to simulate the existing products on the market such as bottled waters like Dasani, Acqua Panna, Mineral Springs. This will give us an idea on how our product will perform in the market compared to existing products."
   ]
  },
  {
   "cell_type": "code",
   "execution_count": null,
   "metadata": {},
   "outputs": [],
   "source": [
    "my_product = [\"No Added Sugar\",\"Carbonated\",\"Glass Bottle\",\"Twist Cap\"]\n",
    "competitor1 = [\"No Added Sugar\",\"Not Carbonated\",\"Plastic Bottle\",\"Twist Cap\"]\n",
    "competitor2 = [\"No Added Sugar\",\"Not Carbonated\",\"Glass Bottle\",\"Twist Cap\"]\n",
    "competitor3 = [\"No Added Sugar\",\"Carbonated\",\"Plastic Bottle\",\"Flip Cap\"]\n",
    "all_products = [my_product,competitor1,competitor2,competitor3]\n",
    "simulate(all_products,individual_part_worths)"
   ]
  },
  {
   "cell_type": "markdown",
   "metadata": {},
   "source": [
    "The forecasted market share for our product is 45.45%.\n",
    "\n",
    "Thus, we suggest the company to launch the ideal product."
   ]
  }
 ],
 "metadata": {
  "kernelspec": {
   "display_name": "Python 3",
   "language": "python",
   "name": "python3"
  },
  "language_info": {
   "codemirror_mode": {
    "name": "ipython",
    "version": 3
   },
   "file_extension": ".py",
   "mimetype": "text/x-python",
   "name": "python",
   "nbconvert_exporter": "python",
   "pygments_lexer": "ipython3",
   "version": "3.7.4"
  }
 },
 "nbformat": 4,
 "nbformat_minor": 2
}
